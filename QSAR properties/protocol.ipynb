{
  "nbformat": 4,
  "nbformat_minor": 0,
  "metadata": {
    "colab": {
      "provenance": []
    },
    "kernelspec": {
      "name": "python3",
      "display_name": "Python 3"
    },
    "language_info": {
      "name": "python"
    }
  },
  "cells": [
    {
      "cell_type": "markdown",
      "source": [
        "**1. Load the molecules and combined them**"
      ],
      "metadata": {
        "id": "F0JIhHUQU_sj"
      }
    },
    {
      "cell_type": "code",
      "source": [
        "!pip install rdkit-pypi\n"
      ],
      "metadata": {
        "colab": {
          "base_uri": "https://localhost:8080/"
        },
        "id": "xZ7tc5c2TfS5",
        "outputId": "fcf26b01-ee54-4491-9496-e49a19404c17"
      },
      "execution_count": 1,
      "outputs": [
        {
          "output_type": "stream",
          "name": "stdout",
          "text": [
            "Collecting rdkit-pypi\n",
            "  Downloading rdkit_pypi-2022.9.5-cp310-cp310-manylinux_2_17_x86_64.manylinux2014_x86_64.whl (29.4 MB)\n",
            "\u001b[2K     \u001b[90m━━━━━━━━━━━━━━━━━━━━━━━━━━━━━━━━━━━━━━━━\u001b[0m \u001b[32m29.4/29.4 MB\u001b[0m \u001b[31m36.5 MB/s\u001b[0m eta \u001b[36m0:00:00\u001b[0m\n",
            "\u001b[?25hRequirement already satisfied: numpy in /usr/local/lib/python3.10/dist-packages (from rdkit-pypi) (1.25.2)\n",
            "Requirement already satisfied: Pillow in /usr/local/lib/python3.10/dist-packages (from rdkit-pypi) (9.4.0)\n",
            "Installing collected packages: rdkit-pypi\n",
            "Successfully installed rdkit-pypi-2022.9.5\n"
          ]
        }
      ]
    },
    {
      "cell_type": "code",
      "execution_count": 3,
      "metadata": {
        "colab": {
          "base_uri": "https://localhost:8080/"
        },
        "id": "9nBzitx6TqRL",
        "outputId": "f949d497-f96b-41d8-e11e-a750185d9db0"
      },
      "outputs": [
        {
          "output_type": "stream",
          "name": "stdout",
          "text": [
            "Number of initial molecules : 2249\n",
            "Distribution of molecules passing all filters by model:\n",
            "Model\n",
            "Lingo3DMol    600\n",
            "Pocket2Mol    562\n",
            "RGA           416\n",
            "DrugGPT       400\n",
            "DiffSBDD      271\n",
            "Name: count, dtype: int64\n"
          ]
        }
      ],
      "source": [
        "# Import necessary libraries\n",
        "import pandas as pd\n",
        "\n",
        "# Define paths to the files and their corresponding model names\n",
        "files_and_models = {\n",
        "    'all_predictions_pocket_tox_docking.csv': 'Pocket2Mol',\n",
        "    'all_predictions_drug_tox_docking.csv': 'DrugGPT',\n",
        "    'all_predictions_diff_tox_docking.csv': 'DiffSBDD',\n",
        "    '600_predictions_lingo_tox_docking.csv': 'Lingo3DMol',\n",
        "    'all_predictions_rga_tox_docking.csv': 'RGA'\n",
        "}\n",
        "# files_and_models = {\n",
        "#     'dyrk1a_tox_predictions.csv': 'RGA'\n",
        "# }\n",
        "\n",
        "# Load data and add a 'Model' column\n",
        "def load_data(file_path, model_name):\n",
        "    df = pd.read_csv(file_path)\n",
        "    df['Model'] = model_name  # Add a column with the model name\n",
        "    return df\n",
        "\n",
        "# Use a dictionary comprehension to load all data and label it by model\n",
        "data_frames = {model: load_data(file, model) for file, model in files_and_models.items()}\n",
        "\n",
        "# Combine all DataFrames into one\n",
        "combined_df = pd.concat(data_frames.values(), ignore_index=True)\n",
        "print(f\"Number of initial molecules : {len(combined_df)}\")\n",
        "# Calculate the distribution of molecules passing all filters using the 'Model' column\n",
        "distribution_by_model = combined_df['Model'].value_counts()\n",
        "\n",
        "# Print the distribution\n",
        "print(\"Distribution of molecules passing all filters by model:\")\n",
        "print(distribution_by_model)\n"
      ]
    },
    {
      "cell_type": "markdown",
      "source": [
        "**2. Toxicity filter**"
      ],
      "metadata": {
        "id": "Y6eDHjA7VHVp"
      }
    },
    {
      "cell_type": "code",
      "source": [
        "# List of specific toxicity columns provided\n",
        "columnas_toxicidad = [\n",
        "    'NR-AR', 'NR-AR-LBD', 'NR-AhR', 'NR-Aromatase', 'NR-ER', 'NR-ER-LBD',\n",
        "    'NR-PPAR-gamma', 'SR-ARE', 'SR-ATAD5', 'SR-HSE', 'SR-MMP', 'SR-p53'\n",
        "]\n",
        "\n",
        "# Filter the DataFrame: Keep rows where all toxicity values are less than 0.5\n",
        "filtered_df = combined_df[combined_df[columnas_toxicidad].lt(0.5).all(axis=1)]\n",
        "\n",
        "# Print the number of molecules remaining after applying the toxicity filter\n",
        "print(f\"Number of molecules remaining after toxicity filter: {len(filtered_df)}\")\n",
        "# Calculate the distribution of molecules passing all filters using the 'Model' column\n",
        "distribution_by_model = filtered_df['Model'].value_counts()\n",
        "\n",
        "# Print the distribution\n",
        "print(\"Distribution of molecules passing all filters by model:\")\n",
        "print(distribution_by_model)\n"
      ],
      "metadata": {
        "colab": {
          "base_uri": "https://localhost:8080/"
        },
        "id": "KaKCL33BU7AO",
        "outputId": "e4ac28c8-fe3b-4c57-92f4-a1b344fb3472"
      },
      "execution_count": 4,
      "outputs": [
        {
          "output_type": "stream",
          "name": "stdout",
          "text": [
            "Number of molecules remaining after toxicity filter: 762\n",
            "Distribution of molecules passing all filters by model:\n",
            "Model\n",
            "DiffSBDD      200\n",
            "Lingo3DMol    171\n",
            "Pocket2Mol    168\n",
            "DrugGPT       162\n",
            "RGA            61\n",
            "Name: count, dtype: int64\n"
          ]
        }
      ]
    },
    {
      "cell_type": "markdown",
      "source": [
        "**3. QED filter**"
      ],
      "metadata": {
        "id": "ZKKFkHCeV3GM"
      }
    },
    {
      "cell_type": "code",
      "source": [
        "# Filter the DataFrame to include only rows where QED > 0.5\n",
        "filtered_df = filtered_df[filtered_df['QED'] > 0.5]\n",
        "\n",
        "# Print the number of molecules remaining after applying the toxicity and QED filters\n",
        "print(f\"Number of molecules remaining after applying toxicity and QED filters: {len(filtered_df)}\")\n",
        "# Calculate the distribution of molecules passing all filters using the 'Model' column\n",
        "distribution_by_model = filtered_df['Model'].value_counts()\n",
        "\n",
        "# Print the distribution\n",
        "print(\"Distribution of molecules passing all filters by model:\")\n",
        "print(distribution_by_model)\n"
      ],
      "metadata": {
        "colab": {
          "base_uri": "https://localhost:8080/"
        },
        "id": "Vqv45pcZV7Sv",
        "outputId": "ab6ee3a3-1c11-40c0-a1ce-a01d61f3f72a"
      },
      "execution_count": 5,
      "outputs": [
        {
          "output_type": "stream",
          "name": "stdout",
          "text": [
            "Number of molecules remaining after applying toxicity and QED filters: 556\n",
            "Distribution of molecules passing all filters by model:\n",
            "Model\n",
            "Pocket2Mol    161\n",
            "Lingo3DMol    161\n",
            "DrugGPT        96\n",
            "DiffSBDD       85\n",
            "RGA            53\n",
            "Name: count, dtype: int64\n"
          ]
        }
      ]
    },
    {
      "cell_type": "markdown",
      "source": [
        "**4. LogP filter**"
      ],
      "metadata": {
        "id": "NV7hIEOmWKDA"
      }
    },
    {
      "cell_type": "code",
      "source": [
        "# Filter the DataFrame to include only rows where LogP is between 0 and 5\n",
        "filtered_df = filtered_df[(filtered_df['logP'] >= 1.5) & (filtered_df['logP'] <= 3.5)]\n",
        "\n",
        "# Print the number of molecules remaining after applying all filters (toxicity, QED, and LogP)\n",
        "print(f\"Number of molecules remaining after applying filters for toxicity, QED and LogP: {len(filtered_df)}\")\n",
        "# Calculate the distribution of molecules passing all filters using the 'Model' column\n",
        "distribution_by_model = filtered_df['Model'].value_counts()\n",
        "\n",
        "# Print the distribution\n",
        "print(\"Distribution of molecules passing all filters by model:\")\n",
        "print(distribution_by_model)\n"
      ],
      "metadata": {
        "colab": {
          "base_uri": "https://localhost:8080/"
        },
        "id": "y3WFCm3tWEIo",
        "outputId": "92f51eb9-eb00-4195-bf12-385bb82da12f"
      },
      "execution_count": 6,
      "outputs": [
        {
          "output_type": "stream",
          "name": "stdout",
          "text": [
            "Number of molecules remaining after applying filters for toxicity, QED and LogP: 297\n",
            "Distribution of molecules passing all filters by model:\n",
            "Model\n",
            "Pocket2Mol    97\n",
            "Lingo3DMol    94\n",
            "DrugGPT       57\n",
            "DiffSBDD      28\n",
            "RGA           21\n",
            "Name: count, dtype: int64\n"
          ]
        }
      ]
    },
    {
      "cell_type": "markdown",
      "source": [
        "**5. Similarity filter**"
      ],
      "metadata": {
        "id": "CWhqqmk7XVcL"
      }
    },
    {
      "cell_type": "code",
      "source": [
        "# Filter the DataFrame to include only rows where Similarity is less than 0.3\n",
        "filtered_df = filtered_df[filtered_df['Similarity'] < 0.3]\n",
        "\n",
        "# Print the number of molecules remaining after applying all filters including the Similarity filter\n",
        "print(f\"Number of molecules remaining after applying filters for toxicity, QED, LogP, and Similarity: {len(filtered_df)}\")\n",
        "# Calculate the distribution of molecules passing all filters using the 'Model' column\n",
        "distribution_by_model = filtered_df['Model'].value_counts()\n",
        "\n",
        "# Print the distribution\n",
        "print(\"Distribution of molecules passing all filters by model:\")\n",
        "print(distribution_by_model)\n"
      ],
      "metadata": {
        "id": "uoov41vSWkqa",
        "colab": {
          "base_uri": "https://localhost:8080/"
        },
        "outputId": "19af7a09-db30-4943-ea42-d4c8abd77e0c"
      },
      "execution_count": 8,
      "outputs": [
        {
          "output_type": "stream",
          "name": "stdout",
          "text": [
            "Number of molecules remaining after applying filters for toxicity, QED, LogP, and Similarity: 206\n",
            "Distribution of molecules passing all filters by model:\n",
            "Model\n",
            "Pocket2Mol    79\n",
            "DrugGPT       51\n",
            "Lingo3DMol    47\n",
            "DiffSBDD      28\n",
            "RGA            1\n",
            "Name: count, dtype: int64\n"
          ]
        }
      ]
    },
    {
      "cell_type": "markdown",
      "source": [
        "**6. Molecular weight filter**"
      ],
      "metadata": {
        "id": "CrLxbcW8X3KB"
      }
    },
    {
      "cell_type": "code",
      "source": [
        "# Filter the DataFrame to include only rows where Similarity is less than 500\n",
        "filtered_df = filtered_df[(filtered_df['MolecularWeight'] >= 180) & (filtered_df['MolecularWeight'] <= 480)]\n",
        "\n",
        "# Print the number of molecules remaining after applying all filters including the Similarity filter\n",
        "print(f\"Number of molecules remaining after applying filters for toxicity, QED, LogP, Similarity and Molecular Weight: {len(filtered_df)}\")\n",
        "# Calculate the distribution of molecules passing all filters using the 'Model' column\n",
        "distribution_by_model = filtered_df['Model'].value_counts()\n",
        "\n",
        "# Print the distribution\n",
        "print(\"Distribution of molecules passing all filters by model:\")\n",
        "print(distribution_by_model)\n"
      ],
      "metadata": {
        "colab": {
          "base_uri": "https://localhost:8080/"
        },
        "id": "y2Rp7bdEXo8M",
        "outputId": "7711faad-f296-465a-fcc8-f28a4549f7ee"
      },
      "execution_count": 9,
      "outputs": [
        {
          "output_type": "stream",
          "name": "stdout",
          "text": [
            "Number of molecules remaining after applying filters for toxicity, QED, LogP, Similarity and Molecular Weight: 200\n",
            "Distribution of molecules passing all filters by model:\n",
            "Model\n",
            "Pocket2Mol    79\n",
            "DrugGPT       47\n",
            "Lingo3DMol    47\n",
            "DiffSBDD      26\n",
            "RGA            1\n",
            "Name: count, dtype: int64\n"
          ]
        }
      ]
    },
    {
      "cell_type": "markdown",
      "source": [
        "**7. SAS filter**"
      ],
      "metadata": {
        "id": "YJzwmO3Yi7Mj"
      }
    },
    {
      "cell_type": "code",
      "source": [
        "filtered_df = filtered_df[filtered_df['SAS'] < 5]\n",
        "\n",
        "# Print the number of molecules remaining after applying all filters including the Similarity filter\n",
        "print(f\"Number of molecules remaining after applying filters for toxicity, QED, LogP, Similarity, Molecular Weight and SAS: {len(filtered_df)}\")\n",
        "# Calculate the distribution of molecules passing all filters using the 'Model' column\n",
        "distribution_by_model = filtered_df['Model'].value_counts()\n",
        "\n",
        "# Print the distribution\n",
        "print(\"Distribution of molecules passing all filters by model:\")\n",
        "print(distribution_by_model)"
      ],
      "metadata": {
        "colab": {
          "base_uri": "https://localhost:8080/"
        },
        "id": "oCTdlzFtjCsz",
        "outputId": "70d3bde7-4c1c-4d4d-bddf-e2a5ae726127"
      },
      "execution_count": 10,
      "outputs": [
        {
          "output_type": "stream",
          "name": "stdout",
          "text": [
            "Number of molecules remaining after applying filters for toxicity, QED, LogP, Similarity, Molecular Weight and SAS: 186\n",
            "Distribution of molecules passing all filters by model:\n",
            "Model\n",
            "Pocket2Mol    73\n",
            "Lingo3DMol    47\n",
            "DrugGPT       46\n",
            "DiffSBDD      19\n",
            "RGA            1\n",
            "Name: count, dtype: int64\n"
          ]
        }
      ]
    },
    {
      "cell_type": "markdown",
      "source": [
        "**8. HBA, HBD filter**"
      ],
      "metadata": {
        "id": "s-ICIzcelX03"
      }
    },
    {
      "cell_type": "code",
      "source": [
        "# Filter out molecules with more than 5 hydrogen bond donors (HBDs)\n",
        "filtered_df = filtered_df[filtered_df['HBD'] <= 5]\n",
        "\n",
        "# Filter out molecules with more than 10 hydrogen bond acceptors (HBAs)\n",
        "filtered_df = filtered_df[filtered_df['HBA'] <= 10]\n",
        "\n",
        "# Print the number of molecules remaining after applying Lipinski criteria\n",
        "print(f\"Number of molecules remaining after applying Lipinski criteria: {len(filtered_df)}\")\n",
        "# Calculate the distribution of molecules passing all filters using the 'Model' column\n",
        "distribution_by_model = filtered_df['Model'].value_counts()\n",
        "\n",
        "# Print the distribution\n",
        "print(\"Distribution of molecules passing all filters by model:\")\n",
        "print(distribution_by_model)\n"
      ],
      "metadata": {
        "colab": {
          "base_uri": "https://localhost:8080/"
        },
        "id": "Rtsd0W-llgjU",
        "outputId": "ce8b00ac-8210-43b4-c11f-39704535f2bd"
      },
      "execution_count": 11,
      "outputs": [
        {
          "output_type": "stream",
          "name": "stdout",
          "text": [
            "Number of molecules remaining after applying Lipinski criteria: 186\n",
            "Distribution of molecules passing all filters by model:\n",
            "Model\n",
            "Pocket2Mol    73\n",
            "Lingo3DMol    47\n",
            "DrugGPT       46\n",
            "DiffSBDD      19\n",
            "RGA            1\n",
            "Name: count, dtype: int64\n"
          ]
        }
      ]
    }
  ]
}